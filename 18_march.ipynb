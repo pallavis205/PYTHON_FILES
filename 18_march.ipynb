{
 "cells": [
  {
   "cell_type": "code",
   "execution_count": 6,
   "metadata": {},
   "outputs": [
    {
     "name": "stdout",
     "output_type": "stream",
     "text": [
      "2 3 4 5\n",
      "[4]\n",
      "[4, 9]\n",
      "[4, 9, 16]\n",
      "[4, 9, 16, 25]\n"
     ]
    }
   ],
   "source": [
    "# calculate squares of each element in a list\n",
    "# i/p:[5,3,2,9]\n",
    "# o/p:[25,9,4,81]\n",
    "n1=[]\n",
    "n=input().split()\n",
    "for i in range(len(n)):\n",
    "    n[i]=int(n[i])\n",
    "    n2=(n[i]**2)\n",
    "    n1.append(n2)\n",
    "    print(n1)\n",
    "#l=[2,3,4,5]\n",
    "#l2=[i**2 for i in l]\n",
    "#print(l2)\n",
    "\n",
    "    \n"
   ]
  },
  {
   "cell_type": "code",
   "execution_count": null,
   "metadata": {},
   "outputs": [],
   "source": [
    "# add two numbers\n",
    "l=input().split()\n",
    "l1=input().split()\n",
    "for i in range(len(l)):\n",
    "    \n"
   ]
  },
  {
   "cell_type": "code",
   "execution_count": null,
   "metadata": {},
   "outputs": [],
   "source": [
    "# display hello world!"
   ]
  },
  {
   "cell_type": "code",
   "execution_count": null,
   "metadata": {},
   "outputs": [],
   "source": [
    "# display hello <username>\n",
    "# read the username from user\n"
   ]
  },
  {
   "cell_type": "code",
   "execution_count": null,
   "metadata": {},
   "outputs": [],
   "source": [
    "# create dic with roll as key and name as value\n",
    "# read the roll number "
   ]
  },
  {
   "cell_type": "code",
   "execution_count": 7,
   "metadata": {},
   "outputs": [
    {
     "name": "stdout",
     "output_type": "stream",
     "text": [
      "Help on built-in function print in module builtins:\n",
      "\n",
      "print(...)\n",
      "    print(value, ..., sep=' ', end='\\n', file=sys.stdout, flush=False)\n",
      "    \n",
      "    Prints the values to a stream, or to sys.stdout by default.\n",
      "    Optional keyword arguments:\n",
      "    file:  a file-like object (stream); defaults to the current sys.stdout.\n",
      "    sep:   string inserted between values, default a space.\n",
      "    end:   string appended after the last value, default a newline.\n",
      "    flush: whether to forcibly flush the stream.\n",
      "\n"
     ]
    }
   ],
   "source": [
    "help(print)"
   ]
  },
  {
   "cell_type": "code",
   "execution_count": 8,
   "metadata": {},
   "outputs": [
    {
     "name": "stdout",
     "output_type": "stream",
     "text": [
      "Help on method_descriptor:\n",
      "\n",
      "split(self, /, sep=None, maxsplit=-1)\n",
      "    Return a list of the words in the string, using sep as the delimiter string.\n",
      "    \n",
      "    sep\n",
      "      The delimiter according which to split the string.\n",
      "      None (the default value) means split according to any whitespace,\n",
      "      and discard empty strings from the result.\n",
      "    maxsplit\n",
      "      Maximum number of splits to do.\n",
      "      -1 (the default value) means no limit.\n",
      "\n"
     ]
    }
   ],
   "source": [
    "help(str.split)"
   ]
  },
  {
   "cell_type": "code",
   "execution_count": null,
   "metadata": {},
   "outputs": [],
   "source": [
    "# function\n",
    "def functionname(arg1,arg2):\n",
    "    state1\n",
    "    state2\n",
    "    state3\n",
    "    return value\n"
   ]
  },
  {
   "cell_type": "code",
   "execution_count": 9,
   "metadata": {},
   "outputs": [
    {
     "name": "stdout",
     "output_type": "stream",
     "text": [
      "hello pallavi\n"
     ]
    }
   ],
   "source": [
    "# without any argument and return value\n",
    "# defining a function\n",
    "def hello():\n",
    "    print(\"hello pallavi\")\n",
    "hello()    "
   ]
  },
  {
   "cell_type": "code",
   "execution_count": 13,
   "metadata": {},
   "outputs": [
    {
     "name": "stdout",
     "output_type": "stream",
     "text": [
      "hello pallavi\n"
     ]
    }
   ],
   "source": [
    "# with a argument and  without return value\n",
    "# defining a function\n",
    "def hello(name):\n",
    "    print(\"hello \"+name)\n",
    "hello(\"pallavi\")  "
   ]
  },
  {
   "cell_type": "code",
   "execution_count": 12,
   "metadata": {},
   "outputs": [
    {
     "ename": "SyntaxError",
     "evalue": "invalid syntax (<ipython-input-12-2583111a7628>, line 1)",
     "output_type": "error",
     "traceback": [
      "\u001b[1;36m  File \u001b[1;32m\"<ipython-input-12-2583111a7628>\"\u001b[1;36m, line \u001b[1;32m1\u001b[0m\n\u001b[1;33m    def hello(45):\u001b[0m\n\u001b[1;37m               ^\u001b[0m\n\u001b[1;31mSyntaxError\u001b[0m\u001b[1;31m:\u001b[0m invalid syntax\n"
     ]
    }
   ],
   "source": [
    "def hello(45):\n",
    "    print(\"fgh\"+45)\n",
    "hello(\"56\")    "
   ]
  },
  {
   "cell_type": "code",
   "execution_count": 14,
   "metadata": {},
   "outputs": [
    {
     "name": "stdout",
     "output_type": "stream",
     "text": [
      "hellopallvi\n",
      "hellopallavi\n"
     ]
    }
   ],
   "source": [
    "def hello(name):\n",
    "    print(\"hello\"+name)\n",
    "hello(\"pallvi\")\n",
    "hello(name=\"pallavi\")"
   ]
  },
  {
   "cell_type": "code",
   "execution_count": 18,
   "metadata": {},
   "outputs": [
    {
     "name": "stdout",
     "output_type": "stream",
     "text": [
      "hello pallavi srivastava\n",
      "hello pallavi srivastava\n",
      "hello pallavi srivastava\n"
     ]
    },
    {
     "ename": "TypeError",
     "evalue": "hello() missing 1 required positional argument: 'lname'",
     "output_type": "error",
     "traceback": [
      "\u001b[1;31m---------------------------------------------------------------------------\u001b[0m",
      "\u001b[1;31mTypeError\u001b[0m                                 Traceback (most recent call last)",
      "\u001b[1;32m<ipython-input-18-37065ce4964f>\u001b[0m in \u001b[0;36m<module>\u001b[1;34m\u001b[0m\n\u001b[0;32m      4\u001b[0m \u001b[0mhello\u001b[0m\u001b[1;33m(\u001b[0m\u001b[1;34m\"pallavi\"\u001b[0m\u001b[1;33m,\u001b[0m\u001b[1;34m\"srivastava\"\u001b[0m\u001b[1;33m)\u001b[0m\u001b[1;33m\u001b[0m\u001b[1;33m\u001b[0m\u001b[0m\n\u001b[0;32m      5\u001b[0m \u001b[0mhello\u001b[0m\u001b[1;33m(\u001b[0m\u001b[1;34m\"pallavi\"\u001b[0m\u001b[1;33m,\u001b[0m\u001b[0mlname\u001b[0m\u001b[1;33m=\u001b[0m\u001b[1;34m\"srivastava\"\u001b[0m\u001b[1;33m)\u001b[0m\u001b[1;33m\u001b[0m\u001b[1;33m\u001b[0m\u001b[0m\n\u001b[1;32m----> 6\u001b[1;33m \u001b[0mhello\u001b[0m\u001b[1;33m(\u001b[0m\u001b[1;34m\"pal\"\u001b[0m\u001b[1;33m)\u001b[0m\u001b[1;33m\u001b[0m\u001b[1;33m\u001b[0m\u001b[0m\n\u001b[0m\u001b[0;32m      7\u001b[0m \u001b[1;33m\u001b[0m\u001b[0m\n",
      "\u001b[1;31mTypeError\u001b[0m: hello() missing 1 required positional argument: 'lname'"
     ]
    }
   ],
   "source": [
    "def hello(fname,lname):\n",
    "    print(\"hello \"+fname+\" \"+lname)\n",
    "hello(fname=\"pallavi\",lname=\"srivastava\")\n",
    "hello(\"pallavi\",\"srivastava\")\n",
    "hello(\"pallavi\",lname=\"srivastava\")\n",
    "hello(\"pal\")\n",
    "\n"
   ]
  },
  {
   "cell_type": "code",
   "execution_count": 21,
   "metadata": {},
   "outputs": [
    {
     "name": "stdout",
     "output_type": "stream",
     "text": [
      "hello pallavi infosys\n",
      "hello pallavi dell\n",
      "hello pallavi promizeIt\n"
     ]
    }
   ],
   "source": [
    "#function with a optional argument\n",
    "def hello(fname,company=\"promizeIt\"):\n",
    "    print(\"hello \"+fname+\" \"+company)\n",
    "hello(fname=\"pallavi\",company=\"infosys\")\n",
    "hello(\"pallavi\",\"dell\")\n",
    "hello(\"pallavi\")"
   ]
  },
  {
   "cell_type": "code",
   "execution_count": 22,
   "metadata": {},
   "outputs": [
    {
     "ename": "SyntaxError",
     "evalue": "non-default argument follows default argument (<ipython-input-22-38ebdc061a34>, line 2)",
     "output_type": "error",
     "traceback": [
      "\u001b[1;36m  File \u001b[1;32m\"<ipython-input-22-38ebdc061a34>\"\u001b[1;36m, line \u001b[1;32m2\u001b[0m\n\u001b[1;33m    def hello(fname=\"unknown\",company):\u001b[0m\n\u001b[1;37m             ^\u001b[0m\n\u001b[1;31mSyntaxError\u001b[0m\u001b[1;31m:\u001b[0m non-default argument follows default argument\n"
     ]
    }
   ],
   "source": [
    "# should mention the optional arguments at the end\n",
    "def hello(fname=\"unknown\",company):\n",
    "    print(\"hello \"+fname+\" \"+company)\n",
    "hello(\"pallavi\",\"dell\")\n",
    "hello(\"pallavi\")"
   ]
  },
  {
   "cell_type": "code",
   "execution_count": 24,
   "metadata": {},
   "outputs": [
    {
     "name": "stdout",
     "output_type": "stream",
     "text": [
      "125\n",
      "125\n"
     ]
    }
   ],
   "source": [
    "# function with return value\n",
    "def cube(n):\n",
    "    return n**3\n",
    "print(cube(5))\n",
    "a=cube(5)\n",
    "print(a)\n"
   ]
  },
  {
   "cell_type": "code",
   "execution_count": 30,
   "metadata": {},
   "outputs": [
    {
     "name": "stdout",
     "output_type": "stream",
     "text": [
      "121 2\n",
      "(121, 2) <class 'tuple'>\n",
      "(121, 2)\n"
     ]
    }
   ],
   "source": [
    "# function with two return values\n",
    "def powern(n):\n",
    "    d=len(str(n))\n",
    "    return n**d,d\n",
    "value,digits=powern(11) \n",
    "print(value,digits)\n",
    "values=powern(11)\n",
    "print(values,type(values))\n",
    "print(powern(11))"
   ]
  },
  {
   "cell_type": "code",
   "execution_count": 1,
   "metadata": {},
   "outputs": [],
   "source": [
    "def prod(*numbers):\n",
    "    m=1\n",
    "    for i in numbers:\n",
    "        m*=i\n",
    "    return m  "
   ]
  },
  {
   "cell_type": "code",
   "execution_count": 3,
   "metadata": {},
   "outputs": [
    {
     "name": "stdout",
     "output_type": "stream",
     "text": [
      "6\n",
      "24\n",
      "120\n"
     ]
    }
   ],
   "source": [
    "print(prod(2,3))\n",
    "print(prod(2,3,4))\n",
    "print(prod(2,3,4,5))"
   ]
  },
  {
   "cell_type": "code",
   "execution_count": 9,
   "metadata": {},
   "outputs": [
    {
     "data": {
      "text/plain": [
       "[101, 101]"
      ]
     },
     "execution_count": 9,
     "metadata": {},
     "output_type": "execute_result"
    }
   ],
   "source": [
    "def markssum(**numbers):\n",
    "    marks=[]\n",
    "    for i in numbers:\n",
    "        marks.append(sum(numbers[i]))\n",
    "    return marks\n",
    "markssum(std1=[45,56],std2=[34,67])"
   ]
  },
  {
   "cell_type": "code",
   "execution_count": null,
   "metadata": {},
   "outputs": [],
   "source": []
  },
  {
   "cell_type": "code",
   "execution_count": null,
   "metadata": {},
   "outputs": [],
   "source": []
  },
  {
   "cell_type": "code",
   "execution_count": null,
   "metadata": {},
   "outputs": [],
   "source": [
    "# calculate squares of each element in a list\n",
    "# i/p:[5,3,2,9]\n",
    "# o/p:[25,9,4,81]\n",
    "#func1:i/p:\"5,3,2,9\" o/p:\"[5,3,2,9]\"\n",
    "# func2:i/p:5 o/p: 5**2\n",
    "# func3: i/p: o/p:[25,9,4,81]\n"
   ]
  },
  {
   "cell_type": "code",
   "execution_count": null,
   "metadata": {},
   "outputs": [],
   "source": [
    "camelcasing\n",
    "-firstname\n",
    "-lastname\n",
    "-sumofmarks\n",
    "\n",
    "-first_name\n",
    "-last_name\n",
    "-sum_of_marks"
   ]
  },
  {
   "cell_type": "code",
   "execution_count": 10,
   "metadata": {},
   "outputs": [
    {
     "name": "stdout",
     "output_type": "stream",
     "text": [
      "enter values5,4,5\n"
     ]
    },
    {
     "data": {
      "text/plain": [
       "[5, 4, 5]"
      ]
     },
     "execution_count": 10,
     "metadata": {},
     "output_type": "execute_result"
    }
   ],
   "source": [
    "def strlist():\n",
    "    values=input(\"enter values\")\n",
    "    values=values.split(\",\")\n",
    "    for i in range(len(values)):\n",
    "        values[i]=int(values[i])\n",
    "    return values\n",
    "strlist()\n",
    "        "
   ]
  },
  {
   "cell_type": "code",
   "execution_count": 11,
   "metadata": {},
   "outputs": [
    {
     "data": {
      "text/plain": [
       "25"
      ]
     },
     "execution_count": 11,
     "metadata": {},
     "output_type": "execute_result"
    }
   ],
   "source": [
    "def square(n):\n",
    "    return n**2\n",
    "square(5)"
   ]
  },
  {
   "cell_type": "code",
   "execution_count": 12,
   "metadata": {},
   "outputs": [
    {
     "name": "stdout",
     "output_type": "stream",
     "text": [
      "enter values5,4,8\n"
     ]
    },
    {
     "data": {
      "text/plain": [
       "[25, 16, 64]"
      ]
     },
     "execution_count": 12,
     "metadata": {},
     "output_type": "execute_result"
    }
   ],
   "source": [
    "def squarelist():\n",
    "    values=strlist()\n",
    "    for i in range(len(values)):\n",
    "        values[i]=square(values[i])\n",
    "    return values\n",
    "squarelist()"
   ]
  },
  {
   "cell_type": "code",
   "execution_count": 15,
   "metadata": {},
   "outputs": [
    {
     "name": "stdout",
     "output_type": "stream",
     "text": [
      "45 67 12 \n",
      "45,67,12,\n",
      "45\t67\t12\t\n"
     ]
    }
   ],
   "source": [
    "def properdisplay(values,sep=\" \"):\n",
    "    for i in values:\n",
    "        print(i,end=sep)\n",
    "    print()    \n",
    "properdisplay([45,67,12])\n",
    "properdisplay([45,67,12],sep=\",\")\n",
    "properdisplay([45,67,12],sep=\"\\t\")"
   ]
  },
  {
   "cell_type": "code",
   "execution_count": null,
   "metadata": {},
   "outputs": [],
   "source": []
  }
 ],
 "metadata": {
  "kernelspec": {
   "display_name": "Python 3",
   "language": "python",
   "name": "python3"
  },
  "language_info": {
   "codemirror_mode": {
    "name": "ipython",
    "version": 3
   },
   "file_extension": ".py",
   "mimetype": "text/x-python",
   "name": "python",
   "nbconvert_exporter": "python",
   "pygments_lexer": "ipython3",
   "version": "3.7.4"
  }
 },
 "nbformat": 4,
 "nbformat_minor": 2
}
