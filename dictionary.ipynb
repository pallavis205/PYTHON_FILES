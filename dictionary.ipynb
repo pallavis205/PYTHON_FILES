{
 "cells": [
  {
   "cell_type": "code",
   "execution_count": 6,
   "metadata": {},
   "outputs": [
    {
     "name": "stdout",
     "output_type": "stream",
     "text": [
      "{'c': 6, 'py': 9, 'R': 7, 'go': 8}\n"
     ]
    }
   ],
   "source": [
    "ratings={\"c\":6,\"py\":9,\"R\":7,\"go\":8}\n",
    "print(ratings)"
   ]
  },
  {
   "cell_type": "code",
   "execution_count": null,
   "metadata": {},
   "outputs": [],
   "source": []
  },
  {
   "cell_type": "code",
   "execution_count": null,
   "metadata": {},
   "outputs": [],
   "source": []
  },
  {
   "cell_type": "code",
   "execution_count": 7,
   "metadata": {},
   "outputs": [
    {
     "name": "stdout",
     "output_type": "stream",
     "text": [
      "c py R go "
     ]
    }
   ],
   "source": [
    "# accessing keys\n",
    "for x in ratings:\n",
    "    print(x,end=\" \")"
   ]
  },
  {
   "cell_type": "code",
   "execution_count": 9,
   "metadata": {},
   "outputs": [
    {
     "name": "stdout",
     "output_type": "stream",
     "text": [
      "6 9 7 8 "
     ]
    }
   ],
   "source": [
    "#accesing values\n",
    "for x in ratings:\n",
    "    print(ratings[x],end=\" \")"
   ]
  },
  {
   "cell_type": "code",
   "execution_count": 8,
   "metadata": {},
   "outputs": [
    {
     "data": {
      "text/plain": [
       "6"
      ]
     },
     "execution_count": 8,
     "metadata": {},
     "output_type": "execute_result"
    }
   ],
   "source": [
    "#accessing values of given key\n",
    "ratings['c']"
   ]
  },
  {
   "cell_type": "code",
   "execution_count": 11,
   "metadata": {},
   "outputs": [
    {
     "name": "stdout",
     "output_type": "stream",
     "text": [
      "\"c\":6\n",
      "\"py\":9\n",
      "\"R\":7\n",
      "\"go\":8\n"
     ]
    }
   ],
   "source": [
    "# \"c\":6\n",
    "# \"py\":9\n",
    "for x in ratings:\n",
    "    print('\"'+x+'\":'+str(ratings[x]))\n"
   ]
  },
  {
   "cell_type": "code",
   "execution_count": 2,
   "metadata": {},
   "outputs": [
    {
     "ename": "NameError",
     "evalue": "name 'c' is not defined",
     "output_type": "error",
     "traceback": [
      "\u001b[1;31m---------------------------------------------------------------------------\u001b[0m",
      "\u001b[1;31mNameError\u001b[0m                                 Traceback (most recent call last)",
      "\u001b[1;32m<ipython-input-2-f16e8f52e67c>\u001b[0m in \u001b[0;36m<module>\u001b[1;34m\u001b[0m\n\u001b[1;32m----> 1\u001b[1;33m \u001b[0mratings\u001b[0m\u001b[1;33m=\u001b[0m\u001b[1;33m{\u001b[0m\u001b[0mc\u001b[0m\u001b[1;33m:\u001b[0m\u001b[1;36m6\u001b[0m\u001b[1;33m,\u001b[0m\u001b[0mpy\u001b[0m\u001b[1;33m:\u001b[0m\u001b[1;36m9\u001b[0m\u001b[1;33m,\u001b[0m\u001b[0mR\u001b[0m\u001b[1;33m:\u001b[0m\u001b[1;36m7\u001b[0m\u001b[1;33m,\u001b[0m\u001b[0mgo\u001b[0m\u001b[1;33m:\u001b[0m\u001b[1;36m8\u001b[0m\u001b[1;33m}\u001b[0m\u001b[1;33m\u001b[0m\u001b[1;33m\u001b[0m\u001b[0m\n\u001b[0m\u001b[0;32m      2\u001b[0m \u001b[0mprint\u001b[0m\u001b[1;33m(\u001b[0m\u001b[0mratings\u001b[0m\u001b[1;33m)\u001b[0m\u001b[1;33m\u001b[0m\u001b[1;33m\u001b[0m\u001b[0m\n",
      "\u001b[1;31mNameError\u001b[0m: name 'c' is not defined"
     ]
    }
   ],
   "source": [
    "ratings={c:6,py:9,R:7,go:8}\n",
    "print(ratings)"
   ]
  },
  {
   "cell_type": "code",
   "execution_count": 4,
   "metadata": {},
   "outputs": [],
   "source": [
    "var=\"555\""
   ]
  },
  {
   "cell_type": "code",
   "execution_count": 5,
   "metadata": {},
   "outputs": [
    {
     "name": "stdout",
     "output_type": "stream",
     "text": [
      "{'c': 6, 'py': 9, '555': 7, 'go': 8}\n"
     ]
    }
   ],
   "source": [
    "ratings={\"c\":6,\"py\":9,var:7,\"go\":8}\n",
    "print(ratings)"
   ]
  },
  {
   "cell_type": "code",
   "execution_count": 23,
   "metadata": {},
   "outputs": [
    {
     "name": "stdout",
     "output_type": "stream",
     "text": [
      "enter range:10\n",
      " {1: 1, 2: 8, 3: 27, 4: 64, 5: 125, 6: 216, 7: 343, 8: 512, 9: 729, 10: 1000}\n"
     ]
    }
   ],
   "source": [
    "# {1:1,2:8,3:27,........,10:1000}\n",
    "n=int(input(\"enter range:\"))\n",
    "d={}\n",
    "for i in range(1,n+1):\n",
    "    d[i]=pow(i,3)\n",
    "print(\"\",d)"
   ]
  },
  {
   "cell_type": "code",
   "execution_count": 3,
   "metadata": {},
   "outputs": [
    {
     "name": "stdout",
     "output_type": "stream",
     "text": [
      "{'vowels': ['ian', 'ali', 'akash'], 'consonants': ['hari', 'balu', 'roja']}\n"
     ]
    }
   ],
   "source": [
    "#i/p:[\"ian\",\"hari\",\"ali\",\"akash\",\"balu\",\"roja\"]\n",
    "#o/p:{}\"vowel\":[\"ian\",\"ali\",\"akash\"],\n",
    "#consonants\":[\"hari\",\"balu\",\"roja\"]}\n",
    "out={}\n",
    "names=[\"ian\",\"hari\",\"ali\",\"akash\",\"balu\",\"roja\"]\n",
    "for i in range(len(names)):\n",
    "    if names[i][0] in \"aeiou\":\n",
    "        if \"vowels\" in out:\n",
    "            out[\"vowels\"].append(names[i])\n",
    "        else:\n",
    "            out[\"vowels\"]=[names[i]]\n",
    "\n",
    "    else:\n",
    "        if \"consonants\" in out:\n",
    "            out[\"consonants\"].append(names[i])\n",
    "        else:\n",
    "            out[\"consonants\"]=[names[i]]\n",
    "print(out)\n"
   ]
  },
  {
   "cell_type": "code",
   "execution_count": null,
   "metadata": {},
   "outputs": [],
   "source": []
  },
  {
   "cell_type": "code",
   "execution_count": null,
   "metadata": {},
   "outputs": [],
   "source": []
  }
 ],
 "metadata": {
  "kernelspec": {
   "display_name": "Python 3",
   "language": "python",
   "name": "python3"
  },
  "language_info": {
   "codemirror_mode": {
    "name": "ipython",
    "version": 3
   },
   "file_extension": ".py",
   "mimetype": "text/x-python",
   "name": "python",
   "nbconvert_exporter": "python",
   "pygments_lexer": "ipython3",
   "version": "3.7.4"
  }
 },
 "nbformat": 4,
 "nbformat_minor": 2
}
