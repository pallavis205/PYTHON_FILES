{
 "cells": [
  {
   "cell_type": "code",
   "execution_count": null,
   "metadata": {},
   "outputs": [],
   "source": [
    "# Read the input from keyboard\n",
    "# i/p  \"23 44 67 92 99\"\n",
    "# o/p : [3,4,7,2,9]\n",
    "# Try the problem in two ways\n",
    "    # to update the same list \n",
    "    # to create a new list"
   ]
  },
  {
   "cell_type": "code",
   "execution_count": null,
   "metadata": {},
   "outputs": [],
   "source": [
    "# Read the inputs from keyboard\n",
    "# i/p1: \"10 20 30 60 99\"\n",
    "# i/p2: \"7 6 9 11 9\"\n",
    "# o/p1: [3,2,3,5,0]\n",
    "# o/p2 : [1,3,3,5,11]"
   ]
  },
  {
   "cell_type": "code",
   "execution_count": null,
   "metadata": {},
   "outputs": [],
   "source": [
    "# Read the inputs from keyboard\n",
    "# i/p1: \"10 20 30 60 99\"\n",
    "# i/p2: \"7 6 9 11 9\"\n",
    "# i/p3: \"56 78 89 9 52\"\n",
    "#o/p [[10,20,30,60,99],[7,6,9,11,9],[56,78,89,9,52]]"
   ]
  },
  {
   "cell_type": "code",
   "execution_count": null,
   "metadata": {},
   "outputs": [],
   "source": [
    "# Get the input from keyboard Hoiw many names you want to read\n",
    "# Read the names from keybord one by one. Store them in a list.\n",
    "# update the same list with names as lowercase letters\n",
    "# Get the names in a new list as output which starts with vowels\n",
    "# Get the names in a new list which ends with consonants\n",
    "# Get the names in a new list which will starts with vowels and ends with consonants\n",
    "# Get the names in new list which will start with consonats and ends with vowel\n",
    "# Get the names in a list which have length in range(5,10). Both 5 and 10 are inclusive"
   ]
  },
  {
   "cell_type": "code",
   "execution_count": null,
   "metadata": {},
   "outputs": [],
   "source": [
    "# Read the emails of a string from keyboard until the user enters 'done'.\n",
    "# From the mails get the domin names of the mails in list\n",
    "# example \"ml.ai@gmail.com\" , domain is \"gmail.com\" here"
   ]
  },
  {
   "cell_type": "code",
   "execution_count": null,
   "metadata": {},
   "outputs": [],
   "source": [
    "# read the number of students from user\n",
    "# Read the details of students into a list. Each sublist contains below details\n",
    "    # studentName,RollNumber,Marks,Language in a single line\n",
    "    # example \"raj,416,56,python\"\n",
    "# Create a list in which \n",
    "    # each sublist conatains three elements\n",
    "        # First element is a tuple contains name and roll number\n",
    "        # second element is marks\n",
    "        # third element is language \n",
    "# From the list get the  different languages avaialble in the data"
   ]
  },
  {
   "cell_type": "code",
   "execution_count": null,
   "metadata": {},
   "outputs": [],
   "source": [
    "# read two lists from user. Two list conatins the names of students\n",
    "# Get the names which are there in both lists\n",
    "# Get the names which are there in alteast one list\n",
    "# Get the names which are there in list1 not there in list2\n",
    "# Get the names which are there in list2 not there in list1"
   ]
  },
  {
   "cell_type": "code",
   "execution_count": null,
   "metadata": {},
   "outputs": [],
   "source": [
    "# Craete multipliaction table of a number\n",
    "# Read the number from user\n",
    "# Example :3\n",
    "3 * 1 = 3\n",
    "3 * 2 = 6\n",
    "'''''''\n",
    "''''''\n",
    "3 * 10 = 30\n",
    "# Later modify the code so that you can read the lower bound and upperbound for the table. \n",
    "# for the above case lowerbound is 1 and upper bound is 10\n"
   ]
  },
  {
   "cell_type": "code",
   "execution_count": 1,
   "metadata": {},
   "outputs": [],
   "source": [
    "# take a list of numbers or names with repetetive values\n",
    "# Get a list as output\n",
    "    # each sublist has the number and how many times it is there in the list\n",
    "# The ouput shoud be in sorted order based on count.\n",
    "# If the count is equal different numbers. Sort them based on numbers\n",
    "# Example : [23,45,23,77,67,45,45,2,3,3,2,3]\n",
    "# output :[[3,3],[45,3],[2,2],[23,2],[67,1],[77,1]] "
   ]
  },
  {
   "cell_type": "code",
   "execution_count": 5,
   "metadata": {},
   "outputs": [
    {
     "name": "stdout",
     "output_type": "stream",
     "text": [
      "[3]\n",
      "[3, 4]\n",
      "[3, 4, 7]\n",
      "[3, 4, 7, 2]\n",
      "[3, 4, 7, 2, 9]\n"
     ]
    }
   ],
   "source": [
    "l3=[]\n",
    "l=[23,44,67,92,99]\n",
    "for i in l:\n",
    "    l2=i%10\n",
    "    l3.append(l2)\n",
    "    print(l3)"
   ]
  },
  {
   "cell_type": "code",
   "execution_count": 9,
   "metadata": {},
   "outputs": [
    {
     "name": "stdout",
     "output_type": "stream",
     "text": [
      "[3, 4, 7, 2, 9]\n"
     ]
    }
   ],
   "source": [
    "l=[23,44,67,92,99]\n",
    "l2=[i%10 for i in l]\n",
    "print(l2)"
   ]
  },
  {
   "cell_type": "code",
   "execution_count": 18,
   "metadata": {},
   "outputs": [
    {
     "name": "stdout",
     "output_type": "stream",
     "text": [
      "enter list 1:10 20 30 60 99\n",
      "enter list 2:7 6 9 11 9\n",
      "[3, 2, 3, 5, 0]\n",
      "[1, 3, 3, 5, 11]\n"
     ]
    }
   ],
   "source": [
    "l=input(\"enter list 1:\").split()\n",
    "l2=input(\"enter list 2:\").split()\n",
    "l3=[]\n",
    "l4=[]\n",
    "for i in range(len(l)):\n",
    "    l[i]=int(l[i])\n",
    "    l2[i]=int(l2[i])\n",
    "    l3.append(l[i]%l2[i])\n",
    "    l4.append(l[i]//l2[i])\n",
    "print(l3)\n",
    "print(l4)"
   ]
  },
  {
   "cell_type": "code",
   "execution_count": 15,
   "metadata": {},
   "outputs": [
    {
     "ename": "TypeError",
     "evalue": "string indices must be integers",
     "output_type": "error",
     "traceback": [
      "\u001b[1;31m---------------------------------------------------------------------------\u001b[0m",
      "\u001b[1;31mTypeError\u001b[0m                                 Traceback (most recent call last)",
      "\u001b[1;32m<ipython-input-15-92ec6657622f>\u001b[0m in \u001b[0;36m<module>\u001b[1;34m\u001b[0m\n\u001b[0;32m      4\u001b[0m \u001b[0ml4\u001b[0m\u001b[1;33m=\u001b[0m\u001b[1;33m[\u001b[0m\u001b[1;33m]\u001b[0m\u001b[1;33m\u001b[0m\u001b[1;33m\u001b[0m\u001b[0m\n\u001b[0;32m      5\u001b[0m \u001b[1;32mfor\u001b[0m \u001b[0mi\u001b[0m \u001b[1;32min\u001b[0m \u001b[0ml\u001b[0m\u001b[1;33m:\u001b[0m\u001b[1;33m\u001b[0m\u001b[1;33m\u001b[0m\u001b[0m\n\u001b[1;32m----> 6\u001b[1;33m     \u001b[0ml\u001b[0m\u001b[1;33m[\u001b[0m\u001b[0mi\u001b[0m\u001b[1;33m]\u001b[0m\u001b[1;33m=\u001b[0m\u001b[0mint\u001b[0m\u001b[1;33m(\u001b[0m\u001b[0ml\u001b[0m\u001b[1;33m[\u001b[0m\u001b[0mi\u001b[0m\u001b[1;33m]\u001b[0m\u001b[1;33m)\u001b[0m\u001b[1;33m\u001b[0m\u001b[1;33m\u001b[0m\u001b[0m\n\u001b[0m\u001b[0;32m      7\u001b[0m     \u001b[0ml2\u001b[0m\u001b[1;33m[\u001b[0m\u001b[0mi\u001b[0m\u001b[1;33m]\u001b[0m\u001b[1;33m=\u001b[0m\u001b[0mint\u001b[0m\u001b[1;33m(\u001b[0m\u001b[0ml2\u001b[0m\u001b[1;33m[\u001b[0m\u001b[0mi\u001b[0m\u001b[1;33m]\u001b[0m\u001b[1;33m)\u001b[0m\u001b[1;33m\u001b[0m\u001b[1;33m\u001b[0m\u001b[0m\n\u001b[0;32m      8\u001b[0m     \u001b[0ml3\u001b[0m\u001b[1;33m.\u001b[0m\u001b[0mappend\u001b[0m\u001b[1;33m(\u001b[0m\u001b[0ml\u001b[0m\u001b[1;33m[\u001b[0m\u001b[0mi\u001b[0m\u001b[1;33m]\u001b[0m\u001b[1;33m%\u001b[0m\u001b[0ml2\u001b[0m\u001b[1;33m[\u001b[0m\u001b[0mi\u001b[0m\u001b[1;33m]\u001b[0m\u001b[1;33m)\u001b[0m\u001b[1;33m\u001b[0m\u001b[1;33m\u001b[0m\u001b[0m\n",
      "\u001b[1;31mTypeError\u001b[0m: string indices must be integers"
     ]
    }
   ],
   "source": [
    "l=\"10 20 30 60 99\"\n",
    "l2=\"7 6 9 11 9\"\n",
    "l3=[]\n",
    "l4=[]\n",
    "for i in l:\n",
    "    l[i]=int(l[i])\n",
    "    l2[i]=int(l2[i])\n",
    "    l3.append(l[i]%l2[i])\n",
    "    l4.append(l[i]//l2[i])\n",
    "print(l3)\n",
    "print(l4)"
   ]
  },
  {
   "cell_type": "code",
   "execution_count": 2,
   "metadata": {},
   "outputs": [
    {
     "name": "stdout",
     "output_type": "stream",
     "text": [
      "enter first list:4 6 7 6 7\n",
      "enter second list:8 8 6 5 4\n",
      "enter third list:89 6 5 4 8\n",
      "[[4, 6, 7, 6, 7], [8, 8, 6, 5, 4], [89, 6, 5, 4, 8]]\n"
     ]
    }
   ],
   "source": [
    "l1=input(\"enter first list:\").split()\n",
    "l2=input(\"enter second list:\").split()\n",
    "l3=input(\"enter third list:\").split()\n",
    "l4=[]\n",
    "for i in range(len(l1)):\n",
    "    l1[i]=int(l1[i])\n",
    "    l2[i]=int(l2[i])\n",
    "    l3[i]=int(l3[i])\n",
    "l4.append(l1)\n",
    "l4.append(l2)\n",
    "l4.append(l3)\n",
    "print(l4)\n",
    "\n"
   ]
  },
  {
   "cell_type": "code",
   "execution_count": 9,
   "metadata": {},
   "outputs": [
    {
     "ename": "AttributeError",
     "evalue": "'list' object has no attribute 'islower'",
     "output_type": "error",
     "traceback": [
      "\u001b[1;31m---------------------------------------------------------------------------\u001b[0m",
      "\u001b[1;31mAttributeError\u001b[0m                            Traceback (most recent call last)",
      "\u001b[1;32m<ipython-input-9-81ff3370f24b>\u001b[0m in \u001b[0;36m<module>\u001b[1;34m\u001b[0m\n\u001b[0;32m      1\u001b[0m \u001b[0ml\u001b[0m\u001b[1;33m=\u001b[0m\u001b[1;33m[\u001b[0m\u001b[1;34m\"h\"\u001b[0m\u001b[1;33m,\u001b[0m\u001b[1;34m\"e\"\u001b[0m\u001b[1;33m,\u001b[0m\u001b[1;34m\"l\"\u001b[0m\u001b[1;33m,\u001b[0m\u001b[1;34m\"l\"\u001b[0m\u001b[1;33m,\u001b[0m\u001b[1;34m\"o\"\u001b[0m\u001b[1;33m]\u001b[0m\u001b[1;33m\u001b[0m\u001b[1;33m\u001b[0m\u001b[0m\n\u001b[1;32m----> 2\u001b[1;33m \u001b[0ml2\u001b[0m\u001b[1;33m=\u001b[0m\u001b[0ml1\u001b[0m\u001b[1;33m.\u001b[0m\u001b[0mislower\u001b[0m\u001b[1;33m(\u001b[0m\u001b[1;33m)\u001b[0m\u001b[1;33m\u001b[0m\u001b[1;33m\u001b[0m\u001b[0m\n\u001b[0m\u001b[0;32m      3\u001b[0m \u001b[0mprint\u001b[0m\u001b[1;33m(\u001b[0m\u001b[0ml2\u001b[0m\u001b[1;33m)\u001b[0m\u001b[1;33m\u001b[0m\u001b[1;33m\u001b[0m\u001b[0m\n",
      "\u001b[1;31mAttributeError\u001b[0m: 'list' object has no attribute 'islower'"
     ]
    }
   ],
   "source": []
  },
  {
   "cell_type": "code",
   "execution_count": 2,
   "metadata": {},
   "outputs": [
    {
     "name": "stdout",
     "output_type": "stream",
     "text": [
      "['p', 'a', 'l', 'l', 'a', 'v', 'i']\n"
     ]
    }
   ],
   "source": [
    "l1=[i.lower() for i in [\"P\",\"A\",\"L\",\"L\",\"A\",\"V\",\"I\"]]\n",
    "print(l1)"
   ]
  },
  {
   "cell_type": "code",
   "execution_count": 4,
   "metadata": {},
   "outputs": [
    {
     "name": "stdout",
     "output_type": "stream",
     "text": [
      "P A L L A V I\n",
      "['p', 'a', 'l', 'l', 'a', 'v', 'i']\n"
     ]
    }
   ],
   "source": [
    "l2=input().split()\n",
    "l1=[i.lower() for i in l2]\n",
    "print(l1)"
   ]
  },
  {
   "cell_type": "code",
   "execution_count": 3,
   "metadata": {},
   "outputs": [
    {
     "name": "stdout",
     "output_type": "stream",
     "text": [
      "ghjkl;@gmail.com\n",
      "wdfg@yahoo.in\n",
      "wsedfedf.edu.in\n",
      "wefefefewww.src.in\n",
      "pal@org.in\n",
      "done\n",
      "['ghjkl;@gmail.com', 'wdfg@yahoo.in', 'wsedfedf.edu.in', 'wefefefewww.src.in', 'pal@org.in']\n"
     ]
    }
   ],
   "source": [
    "# Read the emails of a string from keyboard until the user enters 'done'.\n",
    "# From the mails get the domin names of the mails in list\n",
    "# example \"ml.ai@gmail.com\" , domain is \"gmail.com\" here\n",
    "emails=[]\n",
    "while True:\n",
    "    email=input()\n",
    "    if email==\"done\":\n",
    "        break\n",
    "    else:\n",
    "        emails.append(email)\n",
    "print(emails)        "
   ]
  },
  {
   "cell_type": "code",
   "execution_count": 2,
   "metadata": {},
   "outputs": [
    {
     "ename": "NameError",
     "evalue": "name 'emails' is not defined",
     "output_type": "error",
     "traceback": [
      "\u001b[1;31m---------------------------------------------------------------------------\u001b[0m",
      "\u001b[1;31mNameError\u001b[0m                                 Traceback (most recent call last)",
      "\u001b[1;32m<ipython-input-2-e28affb8a8f7>\u001b[0m in \u001b[0;36m<module>\u001b[1;34m\u001b[0m\n\u001b[0;32m      1\u001b[0m \u001b[0mdomains\u001b[0m\u001b[1;33m=\u001b[0m\u001b[1;33m[\u001b[0m\u001b[1;33m]\u001b[0m\u001b[1;33m\u001b[0m\u001b[1;33m\u001b[0m\u001b[0m\n\u001b[1;32m----> 2\u001b[1;33m \u001b[1;32mfor\u001b[0m \u001b[0mi\u001b[0m \u001b[1;32min\u001b[0m \u001b[0mrange\u001b[0m\u001b[1;33m(\u001b[0m\u001b[0mlen\u001b[0m\u001b[1;33m(\u001b[0m\u001b[0memails\u001b[0m\u001b[1;33m)\u001b[0m\u001b[1;33m)\u001b[0m\u001b[1;33m:\u001b[0m\u001b[1;33m\u001b[0m\u001b[1;33m\u001b[0m\u001b[0m\n\u001b[0m\u001b[0;32m      3\u001b[0m     \u001b[0mdomains\u001b[0m\u001b[1;33m.\u001b[0m\u001b[0mappend\u001b[0m\u001b[1;33m(\u001b[0m\u001b[0memails\u001b[0m\u001b[1;33m[\u001b[0m\u001b[0mi\u001b[0m\u001b[1;33m]\u001b[0m\u001b[1;33m.\u001b[0m\u001b[0msplit\u001b[0m\u001b[1;33m(\u001b[0m\u001b[1;34m'@'\u001b[0m\u001b[1;33m)\u001b[0m\u001b[1;33m[\u001b[0m\u001b[1;33m-\u001b[0m\u001b[1;36m1\u001b[0m\u001b[1;33m]\u001b[0m\u001b[1;33m)\u001b[0m\u001b[1;33m\u001b[0m\u001b[1;33m\u001b[0m\u001b[0m\n\u001b[0;32m      4\u001b[0m \u001b[0mdomains\u001b[0m\u001b[1;33m\u001b[0m\u001b[1;33m\u001b[0m\u001b[0m\n\u001b[0;32m      5\u001b[0m \u001b[1;32mif\u001b[0m \u001b[0mdomains\u001b[0m\u001b[1;33m==\u001b[0m\u001b[1;34m\"gmail.com\"\u001b[0m\u001b[1;33m:\u001b[0m\u001b[1;33m\u001b[0m\u001b[1;33m\u001b[0m\u001b[0m\n",
      "\u001b[1;31mNameError\u001b[0m: name 'emails' is not defined"
     ]
    }
   ],
   "source": [
    "domains=[]\n",
    "for i in range(len(emails)):\n",
    "    domains.append(emails[i].split('@')[-1])\n",
    "domains\n"
   ]
  },
  {
   "cell_type": "code",
   "execution_count": 4,
   "metadata": {},
   "outputs": [
    {
     "data": {
      "text/plain": [
       "['ghjkl;@gmail.com',\n",
       " 'wdfg@yahoo.in',\n",
       " 'wsedfedf.edu.in',\n",
       " 'wefefefewww.src.in',\n",
       " 'pal@org.in']"
      ]
     },
     "execution_count": 4,
     "metadata": {},
     "output_type": "execute_result"
    }
   ],
   "source": [
    "# how many emails are there with domain 'gmail.com\n",
    "emails=['ghjkl;@gmail.com', 'wdfg@yahoo.in', 'wsedfedf.edu.in', 'wefefefewww.src.in', 'pal@org.in']\n",
    "emails\n",
    "\n",
    "    \n",
    "\n",
    "\n"
   ]
  },
  {
   "cell_type": "code",
   "execution_count": 5,
   "metadata": {},
   "outputs": [
    {
     "name": "stdout",
     "output_type": "stream",
     "text": [
      "1\n"
     ]
    }
   ],
   "source": [
    "c=0\n",
    "for i in range(len(emails)):\n",
    "    if emails[i].split('@')[-1]==\"gmail.com\":\n",
    "        c=c+1\n",
    "print(c)        "
   ]
  },
  {
   "cell_type": "code",
   "execution_count": 7,
   "metadata": {},
   "outputs": [
    {
     "data": {
      "text/plain": [
       "[]"
      ]
     },
     "execution_count": 7,
     "metadata": {},
     "output_type": "execute_result"
    }
   ],
   "source": [
    "# get the unique domain names from the list domains\n",
    "unique_domains=[]\n",
    "for i in domains:\n",
    "    if i not in unique_domains:\n",
    "        unique_domains.append(i)\n",
    "unique_domains        \n"
   ]
  },
  {
   "cell_type": "code",
   "execution_count": 8,
   "metadata": {},
   "outputs": [
    {
     "data": {
      "text/plain": [
       "[]"
      ]
     },
     "execution_count": 8,
     "metadata": {},
     "output_type": "execute_result"
    }
   ],
   "source": [
    "list(set(domains))"
   ]
  },
  {
   "cell_type": "code",
   "execution_count": 9,
   "metadata": {},
   "outputs": [
    {
     "name": "stdout",
     "output_type": "stream",
     "text": [
      "['ghjkl;@gmail.com', 'wdfg@yahoo.in', 'wsedfedf.edu.in', 'wefefefewww.src.in', 'pal@org.in']\n",
      "[]\n",
      "0\n",
      "[]\n"
     ]
    }
   ],
   "source": [
    "# reading the mails from user\n",
    "# getting domains in list\n",
    "# with a specific domain how many mails are there\n",
    "# unique mails as alist\n",
    "# [[\"domain1\":count],[\"domain2\":count]]\n",
    "print(emails)\n",
    "print(domains)\n",
    "print(domains.count(\"gmail.com\"))\n",
    "print(unique_domains)\n",
    "\n",
    "\n",
    "  \n",
    "\n"
   ]
  },
  {
   "cell_type": "code",
   "execution_count": 13,
   "metadata": {},
   "outputs": [
    {
     "data": {
      "text/plain": [
       "[]"
      ]
     },
     "execution_count": 13,
     "metadata": {},
     "output_type": "execute_result"
    }
   ],
   "source": [
    "domains_count=[]\n",
    "for i in unique_domains:\n",
    "    domains_count.append([i,domains.count(i)])\n",
    "domains_count    "
   ]
  },
  {
   "cell_type": "code",
   "execution_count": 14,
   "metadata": {},
   "outputs": [
    {
     "data": {
      "text/plain": [
       "[]"
      ]
     },
     "execution_count": 14,
     "metadata": {},
     "output_type": "execute_result"
    }
   ],
   "source": [
    "domains_count=[]\n",
    "for i in domains:\n",
    "    domains_count.append([i,domains.count(i)])\n",
    "domains_count  "
   ]
  },
  {
   "cell_type": "code",
   "execution_count": 7,
   "metadata": {},
   "outputs": [
    {
     "name": "stdout",
     "output_type": "stream",
     "text": [
      "ghjkl@gmail.com\n",
      "hjk@gmail.com\n",
      "done\n",
      "['ghjkl@gmail.com', 'hjk@gmail.com']\n"
     ]
    }
   ],
   "source": [
    "emails=[]\n",
    "while True:\n",
    "    email=input()\n",
    "    if email==\"done\":\n",
    "        break\n",
    "    emails.append(email)\n",
    "print(emails)       "
   ]
  },
  {
   "cell_type": "code",
   "execution_count": 8,
   "metadata": {},
   "outputs": [
    {
     "name": "stdout",
     "output_type": "stream",
     "text": [
      "fghjk\n",
      "dfg\n",
      "done\n",
      "['done']\n"
     ]
    }
   ],
   "source": [
    "emails=[]\n",
    "while True:\n",
    "    email=input()\n",
    "    if email==\"done\":\n",
    "        emails.append(email)\n",
    "        break\n",
    "print(emails) "
   ]
  },
  {
   "cell_type": "code",
   "execution_count": null,
   "metadata": {},
   "outputs": [],
   "source": [
    "# I/O:\"RAKESH 345 56 PYTHON\"\n",
    "# O/P:[\"RAJESH\",345,56,\"PYTHON\"]\n",
    "# O/P2:[(\"RAKESH\",345),56,\"PYTHON\"]"
   ]
  },
  {
   "cell_type": "code",
   "execution_count": 2,
   "metadata": {},
   "outputs": [
    {
     "data": {
      "text/plain": [
       "(1, 2, 3)"
      ]
     },
     "execution_count": 2,
     "metadata": {},
     "output_type": "execute_result"
    }
   ],
   "source": [
    "tuple([1,2,3])\n"
   ]
  },
  {
   "cell_type": "code",
   "execution_count": 3,
   "metadata": {},
   "outputs": [
    {
     "name": "stdout",
     "output_type": "stream",
     "text": [
      "rakesh 345 56 python\n"
     ]
    },
    {
     "data": {
      "text/plain": [
       "['rakesh', 345, 56, 'python']"
      ]
     },
     "execution_count": 3,
     "metadata": {},
     "output_type": "execute_result"
    }
   ],
   "source": [
    "t=input().split()\n",
    "t[1]=int(t[1])\n",
    "t[2]=int(t[2])\n",
    "t\n"
   ]
  },
  {
   "cell_type": "code",
   "execution_count": 4,
   "metadata": {},
   "outputs": [
    {
     "data": {
      "text/plain": [
       "[('rakesh', 345), 56, 'python']"
      ]
     },
     "execution_count": 4,
     "metadata": {},
     "output_type": "execute_result"
    }
   ],
   "source": [
    "t1=[tuple(t[0:2]),t[2],t[3]]\n",
    "t1"
   ]
  },
  {
   "cell_type": "code",
   "execution_count": 2,
   "metadata": {},
   "outputs": [
    {
     "name": "stdout",
     "output_type": "stream",
     "text": [
      "3\n",
      "pallavi 15 100 python\n",
      "suman 31 99 java\n",
      "astha 67 78 c\n"
     ]
    },
    {
     "data": {
      "text/plain": [
       "[[('pallavi', 15), 100, 'python'],\n",
       " [('suman', 31), 99, 'java'],\n",
       " [('astha', 67), 78, 'c']]"
      ]
     },
     "execution_count": 2,
     "metadata": {},
     "output_type": "execute_result"
    }
   ],
   "source": [
    "n=int(input())\n",
    "student=[]\n",
    "for i in range(n):\n",
    "    t=input().split()\n",
    "    t[1]=int(t[1])\n",
    "    t[2]=int(t[2])\n",
    "    t1=[tuple(t[0:2]),t[2],t[3]] \n",
    "    student.append(t1)\n",
    "student"
   ]
  },
  {
   "cell_type": "code",
   "execution_count": 3,
   "metadata": {},
   "outputs": [
    {
     "ename": "NameError",
     "evalue": "name 'student' is not defined",
     "output_type": "error",
     "traceback": [
      "\u001b[1;31m---------------------------------------------------------------------------\u001b[0m",
      "\u001b[1;31mNameError\u001b[0m                                 Traceback (most recent call last)",
      "\u001b[1;32m<ipython-input-3-98eabfd95b2a>\u001b[0m in \u001b[0;36m<module>\u001b[1;34m\u001b[0m\n\u001b[1;32m----> 1\u001b[1;33m \u001b[0mstudent\u001b[0m\u001b[1;33m\u001b[0m\u001b[1;33m\u001b[0m\u001b[0m\n\u001b[0m",
      "\u001b[1;31mNameError\u001b[0m: name 'student' is not defined"
     ]
    }
   ],
   "source": [
    "student"
   ]
  },
  {
   "cell_type": "code",
   "execution_count": 6,
   "metadata": {},
   "outputs": [
    {
     "ename": "NameError",
     "evalue": "name 'student' is not defined",
     "output_type": "error",
     "traceback": [
      "\u001b[1;31m---------------------------------------------------------------------------\u001b[0m",
      "\u001b[1;31mNameError\u001b[0m                                 Traceback (most recent call last)",
      "\u001b[1;32m<ipython-input-6-79cd2b40482d>\u001b[0m in \u001b[0;36m<module>\u001b[1;34m\u001b[0m\n\u001b[0;32m      1\u001b[0m \u001b[0mlanguages\u001b[0m\u001b[1;33m=\u001b[0m\u001b[1;33m[\u001b[0m\u001b[1;33m]\u001b[0m\u001b[1;33m\u001b[0m\u001b[1;33m\u001b[0m\u001b[0m\n\u001b[1;32m----> 2\u001b[1;33m \u001b[1;32mfor\u001b[0m \u001b[0mi\u001b[0m \u001b[1;32min\u001b[0m \u001b[0mrange\u001b[0m\u001b[1;33m(\u001b[0m\u001b[0mlen\u001b[0m\u001b[1;33m(\u001b[0m\u001b[0mstudent\u001b[0m\u001b[1;33m)\u001b[0m\u001b[1;33m)\u001b[0m\u001b[1;33m:\u001b[0m\u001b[1;33m\u001b[0m\u001b[1;33m\u001b[0m\u001b[0m\n\u001b[0m\u001b[0;32m      3\u001b[0m     \u001b[0mlanguages\u001b[0m\u001b[1;33m.\u001b[0m\u001b[0mappend\u001b[0m\u001b[1;33m(\u001b[0m\u001b[0mstudent\u001b[0m\u001b[1;33m[\u001b[0m\u001b[0mi\u001b[0m\u001b[1;33m]\u001b[0m\u001b[1;33m[\u001b[0m\u001b[1;36m2\u001b[0m\u001b[1;33m]\u001b[0m\u001b[1;33m)\u001b[0m\u001b[1;33m\u001b[0m\u001b[1;33m\u001b[0m\u001b[0m\n\u001b[0;32m      4\u001b[0m \u001b[0mlanguages\u001b[0m\u001b[1;33m\u001b[0m\u001b[1;33m\u001b[0m\u001b[0m\n\u001b[0;32m      5\u001b[0m \u001b[1;33m\u001b[0m\u001b[0m\n",
      "\u001b[1;31mNameError\u001b[0m: name 'student' is not defined"
     ]
    }
   ],
   "source": [
    "languages=[]\n",
    "for i in range(len(student)):\n",
    "    languages.append(student[i][2])\n",
    "languages    \n",
    "    "
   ]
  },
  {
   "cell_type": "code",
   "execution_count": 7,
   "metadata": {},
   "outputs": [
    {
     "data": {
      "text/plain": [
       "[]"
      ]
     },
     "execution_count": 7,
     "metadata": {},
     "output_type": "execute_result"
    }
   ],
   "source": [
    "list(set(languages))"
   ]
  },
  {
   "cell_type": "code",
   "execution_count": 6,
   "metadata": {},
   "outputs": [
    {
     "data": {
      "text/plain": [
       "type"
      ]
     },
     "execution_count": 6,
     "metadata": {},
     "output_type": "execute_result"
    }
   ],
   "source": [
    "\n",
    "    "
   ]
  },
  {
   "cell_type": "code",
   "execution_count": null,
   "metadata": {},
   "outputs": [],
   "source": [
    "# get the marks of the student  with roll no. 345\n",
    "\n"
   ]
  },
  {
   "cell_type": "code",
   "execution_count": 11,
   "metadata": {},
   "outputs": [
    {
     "name": "stdout",
     "output_type": "stream",
     "text": [
      "2\n"
     ]
    }
   ],
   "source": [
    "# get  the index of value 678 without index fuction\n",
    "a=[45,667,678,92,62,46,78]\n",
    "for i in range(len(a)):\n",
    "    if a[i]==678:\n",
    "        print(i)"
   ]
  },
  {
   "cell_type": "code",
   "execution_count": 2,
   "metadata": {},
   "outputs": [
    {
     "ename": "NameError",
     "evalue": "name 'student' is not defined",
     "output_type": "error",
     "traceback": [
      "\u001b[1;31m---------------------------------------------------------------------------\u001b[0m",
      "\u001b[1;31mNameError\u001b[0m                                 Traceback (most recent call last)",
      "\u001b[1;32m<ipython-input-2-98eabfd95b2a>\u001b[0m in \u001b[0;36m<module>\u001b[1;34m\u001b[0m\n\u001b[1;32m----> 1\u001b[1;33m \u001b[0mstudent\u001b[0m\u001b[1;33m\u001b[0m\u001b[1;33m\u001b[0m\u001b[0m\n\u001b[0m",
      "\u001b[1;31mNameError\u001b[0m: name 'student' is not defined"
     ]
    }
   ],
   "source": [
    "student"
   ]
  },
  {
   "cell_type": "code",
   "execution_count": 7,
   "metadata": {},
   "outputs": [
    {
     "name": "stdout",
     "output_type": "stream",
     "text": [
      "67\n"
     ]
    }
   ],
   "source": [
    "for i in range(len(student)):\n",
    "    if student[i][0][1]==45:\n",
    "        print(student[i][1])"
   ]
  },
  {
   "cell_type": "code",
   "execution_count": 8,
   "metadata": {},
   "outputs": [
    {
     "name": "stdout",
     "output_type": "stream",
     "text": [
      "67\n"
     ]
    }
   ],
   "source": [
    "# marks with student name suma\n",
    "for i in range(len(student)):\n",
    "    if student[i][0][0]==\"suma\":\n",
    "        print(student[i][1])"
   ]
  },
  {
   "cell_type": "code",
   "execution_count": 9,
   "metadata": {},
   "outputs": [
    {
     "name": "stdout",
     "output_type": "stream",
     "text": [
      "java\n"
     ]
    }
   ],
   "source": [
    "# language with student roll no. 56\n",
    "for i in range(len(student)):\n",
    "    if student[i][0][1]==56:\n",
    "        print(student[i][2])"
   ]
  },
  {
   "cell_type": "code",
   "execution_count": 8,
   "metadata": {},
   "outputs": [
    {
     "name": "stdout",
     "output_type": "stream",
     "text": [
      "15\n"
     ]
    },
    {
     "data": {
      "text/plain": [
       "[]"
      ]
     },
     "execution_count": 8,
     "metadata": {},
     "output_type": "execute_result"
    }
   ],
   "source": [
    "# student roll no. as alist with language python\n",
    "py=[]\n",
    "for i in range(len(student)):\n",
    "    if student[i][2]==\"python\":\n",
    "        print(student[i][0][1]);\n",
    "py        "
   ]
  },
  {
   "cell_type": "code",
   "execution_count": 9,
   "metadata": {},
   "outputs": [
    {
     "name": "stdout",
     "output_type": "stream",
     "text": [
      "pallavi shiv astha\n",
      "hello astha pallavi\n",
      "[['pallavi', 'shiv', 'astha']]\n",
      "[['hello', 'astha', 'pallavi']]\n",
      "pallavi\n",
      "astha\n"
     ]
    }
   ],
   "source": [
    "# read two lists from user. Two list conatins the names of students\n",
    "# Get the names which are there in both lists\n",
    "# Get the names which are there in alteast one list\n",
    "# Get the names which are there in list1 not there in list2\n",
    "# Get the names which are there in list2 not there in list1\n",
    "l=input().split()\n",
    "l1=input().split()\n",
    "l3=[]\n",
    "l4=[]\n",
    "l3.append(l)\n",
    "l4.append(l1)\n",
    "bprint(l3)\n",
    "print(l4)\n",
    "for i in l:\n",
    "    for j in l1:\n",
    "        if i==j:\n",
    "            print(i)\n",
    "\n"
   ]
  },
  {
   "cell_type": "code",
   "execution_count": 2,
   "metadata": {},
   "outputs": [
    {
     "ename": "SyntaxError",
     "evalue": "invalid syntax (<ipython-input-2-b9f657d31fe5>, line 6)",
     "output_type": "error",
     "traceback": [
      "\u001b[1;36m  File \u001b[1;32m\"<ipython-input-2-b9f657d31fe5>\"\u001b[1;36m, line \u001b[1;32m6\u001b[0m\n\u001b[1;33m    for i not in l1:\u001b[0m\n\u001b[1;37m            ^\u001b[0m\n\u001b[1;31mSyntaxError\u001b[0m\u001b[1;31m:\u001b[0m invalid syntax\n"
     ]
    }
   ],
   "source": [
    "\n",
    "        "
   ]
  },
  {
   "cell_type": "code",
   "execution_count": 1,
   "metadata": {},
   "outputs": [
    {
     "name": "stdout",
     "output_type": "stream",
     "text": [
      "10\n",
      "[30]\n"
     ]
    }
   ],
   "source": [
    "l1=input().split()\n",
    "for i in range(len(l1)):\n",
    "    l1[i]=int(l1[i])\n",
    "l=[3*i for i in l1]\n",
    "print(l)"
   ]
  },
  {
   "cell_type": "code",
   "execution_count": null,
   "metadata": {},
   "outputs": [],
   "source": []
  },
  {
   "cell_type": "code",
   "execution_count": null,
   "metadata": {},
   "outputs": [],
   "source": []
  }
 ],
 "metadata": {
  "kernelspec": {
   "display_name": "Python 3",
   "language": "python",
   "name": "python3"
  },
  "language_info": {
   "codemirror_mode": {
    "name": "ipython",
    "version": 3
   },
   "file_extension": ".py",
   "mimetype": "text/x-python",
   "name": "python",
   "nbconvert_exporter": "python",
   "pygments_lexer": "ipython3",
   "version": "3.7.4"
  }
 },
 "nbformat": 4,
 "nbformat_minor": 2
}
