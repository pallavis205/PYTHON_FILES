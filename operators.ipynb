{
 "cells": [
  {
   "cell_type": "code",
   "execution_count": 3,
   "metadata": {},
   "outputs": [
    {
     "name": "stdout",
     "output_type": "stream",
     "text": [
      "enter string1water\n",
      "enter string2bad\n",
      "w b\n",
      "a a\n",
      "t d\n"
     ]
    },
    {
     "ename": "IndexError",
     "evalue": "string index out of range",
     "output_type": "error",
     "traceback": [
      "\u001b[1;31m---------------------------------------------------------------------------\u001b[0m",
      "\u001b[1;31mIndexError\u001b[0m                                Traceback (most recent call last)",
      "\u001b[1;32m<ipython-input-3-b11ba6c7e8eb>\u001b[0m in \u001b[0;36m<module>\u001b[1;34m\u001b[0m\n\u001b[0;32m      6\u001b[0m \u001b[1;32melif\u001b[0m\u001b[1;33m(\u001b[0m\u001b[0mlen\u001b[0m\u001b[1;33m(\u001b[0m\u001b[0ms1\u001b[0m\u001b[1;33m)\u001b[0m\u001b[1;33m>\u001b[0m\u001b[0mlen\u001b[0m\u001b[1;33m(\u001b[0m\u001b[0ms2\u001b[0m\u001b[1;33m)\u001b[0m\u001b[1;33m)\u001b[0m\u001b[1;33m:\u001b[0m\u001b[1;33m\u001b[0m\u001b[1;33m\u001b[0m\u001b[0m\n\u001b[0;32m      7\u001b[0m     \u001b[1;32mfor\u001b[0m \u001b[0mi\u001b[0m \u001b[1;32min\u001b[0m \u001b[0mrange\u001b[0m\u001b[1;33m(\u001b[0m\u001b[0mlen\u001b[0m\u001b[1;33m(\u001b[0m\u001b[0ms1\u001b[0m\u001b[1;33m)\u001b[0m\u001b[1;33m)\u001b[0m\u001b[1;33m:\u001b[0m\u001b[1;33m\u001b[0m\u001b[1;33m\u001b[0m\u001b[0m\n\u001b[1;32m----> 8\u001b[1;33m         \u001b[0mprint\u001b[0m\u001b[1;33m(\u001b[0m\u001b[0ms1\u001b[0m\u001b[1;33m[\u001b[0m\u001b[0mi\u001b[0m\u001b[1;33m]\u001b[0m\u001b[1;33m,\u001b[0m\u001b[0ms2\u001b[0m\u001b[1;33m[\u001b[0m\u001b[0mi\u001b[0m\u001b[1;33m]\u001b[0m\u001b[1;33m)\u001b[0m\u001b[1;33m\u001b[0m\u001b[1;33m\u001b[0m\u001b[0m\n\u001b[0m\u001b[0;32m      9\u001b[0m     \u001b[1;32mfor\u001b[0m \u001b[0mi\u001b[0m \u001b[1;32min\u001b[0m \u001b[0mrange\u001b[0m\u001b[1;33m(\u001b[0m\u001b[0mlen\u001b[0m\u001b[1;33m(\u001b[0m\u001b[0ms1\u001b[0m\u001b[1;33m)\u001b[0m\u001b[1;33m,\u001b[0m\u001b[0mlen\u001b[0m\u001b[1;33m(\u001b[0m\u001b[0ms2\u001b[0m\u001b[1;33m)\u001b[0m\u001b[1;33m)\u001b[0m\u001b[1;33m:\u001b[0m\u001b[1;33m\u001b[0m\u001b[1;33m\u001b[0m\u001b[0m\n\u001b[0;32m     10\u001b[0m         \u001b[0mprint\u001b[0m\u001b[1;33m(\u001b[0m\u001b[1;34m\"*\"\u001b[0m\u001b[1;33m,\u001b[0m\u001b[0ms2\u001b[0m\u001b[1;33m[\u001b[0m\u001b[0mi\u001b[0m\u001b[1;33m]\u001b[0m\u001b[1;33m)\u001b[0m\u001b[1;33m\u001b[0m\u001b[1;33m\u001b[0m\u001b[0m\n",
      "\u001b[1;31mIndexError\u001b[0m: string index out of range"
     ]
    }
   ],
   "source": [
    "s1=input(\"enter string1\")\n",
    "s2=input(\"enter string2\")\n",
    "if(len(s1)==len(s2)):\n",
    "    for i in range(len(s1)):\n",
    "        print(s1[i],s2[i])\n",
    "elif(len(s1)>len(s2)):\n",
    "    for i in range(len(s1)):\n",
    "        print(s1[i],s2[i])\n",
    "    for i in range(len(s1),len(s2)):\n",
    "        print(\"*\",s2[i])\n",
    "        \n",
    "            "
   ]
  },
  {
   "cell_type": "code",
   "execution_count": 6,
   "metadata": {},
   "outputs": [
    {
     "name": "stdout",
     "output_type": "stream",
     "text": [
      "enter string 1bad\n",
      "enter string 2water\n",
      "b w\n",
      "a a\n",
      "d t\n",
      "* e\n",
      "* r\n"
     ]
    }
   ],
   "source": [
    "s1=input(\"enter string 1\")\n",
    "s2=input(\"enter string 2\")\n",
    "if len(s1)<len(s2):\n",
    "    diff=len(s2)-len(s1)\n",
    "    s1=s1+\"*\"*diff\n",
    "elif len(s1)>len(s2):\n",
    "    diff=len(s1)-len(s2)\n",
    "    s2=s2+\"*\"*diff\n",
    "for i in range(len(s1)):\n",
    "    print(s1[i],s2[i])"
   ]
  },
  {
   "cell_type": "code",
   "execution_count": 2,
   "metadata": {},
   "outputs": [
    {
     "name": "stdout",
     "output_type": "stream",
     "text": [
      "enter a string:orange\n",
      "puboif"
     ]
    }
   ],
   "source": [
    "s=input(\"enter a string:\")\n",
    "vowels=\"aeiouAEIOU\"\n",
    "for i in s:\n",
    "    if (i in vowels):\n",
    "        print(chr(ord(i)+1),end=\"\")\n",
    "    else:\n",
    "        if(i>'a' and i<'e'):\n",
    "            print('e',end=\"\")\n",
    "        elif(i>'e' and i<'i'):\n",
    "            print('i',end=\"\")    \n",
    "        elif(i>'i' and i<'o'):\n",
    "            print('o',end=\"\")\n",
    "        elif(i>'o' and i<'u'):\n",
    "            print('u',end=\"\") \n",
    "        elif(i>'u' and i<'z'):\n",
    "            print('a')\n",
    "           "
   ]
  },
  {
   "cell_type": "code",
   "execution_count": 4,
   "metadata": {},
   "outputs": [
    {
     "name": "stdout",
     "output_type": "stream",
     "text": [
      "30\n",
      "-10\n",
      "200\n",
      "0.5\n",
      "0\n"
     ]
    }
   ],
   "source": [
    "# 1.arithemetic operator:+,-,*,/,%,//(floor division),**(exponent)\n",
    "x=10\n",
    "y=20\n",
    "print(x+y)\n",
    "print(x-y)\n",
    "print(x*y)\n",
    "print(x/y)\n",
    "print(x//y)\n",
    "\n"
   ]
  },
  {
   "cell_type": "code",
   "execution_count": null,
   "metadata": {},
   "outputs": [],
   "source": [
    "# 2. relational operators:<,>,<=,>=,==,!=\n",
    "# it gives only boolean value as a result"
   ]
  },
  {
   "cell_type": "code",
   "execution_count": 5,
   "metadata": {},
   "outputs": [
    {
     "name": "stdout",
     "output_type": "stream",
     "text": [
      "False\n",
      "False\n",
      "False\n"
     ]
    }
   ],
   "source": [
    "# 3.logical operators: and,or,not\n",
    "print(x<y and x<5)\n",
    "print(x<y and x<5)\n",
    "print(not x<y)"
   ]
  },
  {
   "cell_type": "code",
   "execution_count": null,
   "metadata": {},
   "outputs": [],
   "source": []
  },
  {
   "cell_type": "code",
   "execution_count": 8,
   "metadata": {},
   "outputs": [
    {
     "name": "stdout",
     "output_type": "stream",
     "text": [
      "0\n",
      "30\n",
      "40\n",
      "2\n",
      "30\n",
      "-11\n"
     ]
    }
   ],
   "source": [
    "# 4.assignment operators:=,+=,-=,*=,/=,%=,//=,**=\n",
    "x=10\n",
    "y=20\n",
    "print(x & y)\n",
    "print(x | y)\n",
    "print(x<<2)\n",
    "print(x>>2)\n",
    "print(x ^ y)\n",
    "print(~x)\n"
   ]
  },
  {
   "cell_type": "markdown",
   "metadata": {},
   "source": [
    "# 6.membership operators:in,not,in\n",
    "s=\"python\"\n",
    "print('z' in s)\n",
    "\n"
   ]
  },
  {
   "cell_type": "code",
   "execution_count": 10,
   "metadata": {},
   "outputs": [
    {
     "name": "stdout",
     "output_type": "stream",
     "text": [
      "True\n",
      "False\n",
      "False\n",
      "True\n"
     ]
    }
   ],
   "source": [
    "# 7.identity operators:is,is not\n",
    "x=10\n",
    "y=20\n",
    "z=10\n",
    "print(x is z)# id(x)==id(z)-->true\n",
    "print(x is y)\n",
    "print(x is not z)\n",
    "print(x is not y)\n"
   ]
  },
  {
   "cell_type": "code",
   "execution_count": 12,
   "metadata": {},
   "outputs": [
    {
     "name": "stdout",
     "output_type": "stream",
     "text": [
      "20\n",
      "20\n"
     ]
    }
   ],
   "source": [
    "# 8.ternary operator(simply if else treated as a ternary operator in python)\n",
    "# traditional way\n",
    "x=10\n",
    "y=20\n",
    "if(x>y):\n",
    "    print(x)\n",
    "else:\n",
    "    print(y)\n",
    "# ternary operator\n",
    "print(x) if(x>y) else print(y)"
   ]
  },
  {
   "cell_type": "code",
   "execution_count": null,
   "metadata": {},
   "outputs": [],
   "source": [
    "# conditional control statement:if,else,elif\n",
    "# accept three subjects marks of student and check whether student got minimum 30 marks in all subjects or not,if he gets minimum 30 in ll subjectsthe find average marks else print fail.avg>=75-->a,avg<75 and avg>=60-->b,avg<60 and avg>=45-->c,avg<45 and avg>=30-->d else FAIL\n",
    "\n",
    "s1=int(input(\"enter marks of sub1:\"))\n",
    "s2=int(input(\"enter marks of sub2:\"))\n",
    "s3=int(input(\"enter marks of sub3:\"))\n",
    "if(s1>30 and s2>30 and s3>30):\n",
    "    avg=(s1+s2+s3)/3\n",
    "    if(avg>=75):\n",
    "        print(\"grade A\")\n",
    "    elif(avg<75 and avg>=60):\n",
    "        print(\"grade B\")\n",
    "    elif(avg>60 and avg<=45):\n",
    "        print(\"grade C\")\n",
    "    elif(avg>45 and avg<=30):\n",
    "        print(\"grade D\")\n",
    "    else:\n",
    "        print(\"FAIL\")\n",
    "else:\n",
    "    print(\"fail\")\n"
   ]
  },
  {
   "cell_type": "code",
   "execution_count": 5,
   "metadata": {},
   "outputs": [
    {
     "name": "stdout",
     "output_type": "stream",
     "text": [
      "enter a value20\n",
      "1\n",
      "2\n",
      "3\n",
      "4\n",
      "5\n",
      "6\n",
      "7\n",
      "8\n",
      "9\n",
      "10\n",
      "11\n",
      "12\n",
      "13\n",
      "14\n",
      "15\n",
      "16\n",
      "17\n",
      "18\n",
      "19\n",
      "20\n",
      "\n",
      "1234567891011121314151617181920"
     ]
    }
   ],
   "source": [
    "# loops:while ,for\n",
    "i=1\n",
    "n=int(input(\"enter a value\"))\n",
    "while i<=n:\n",
    "    print(i)\n",
    "    i=i+1\n",
    "print()\n",
    "for i in range(1,n+1,1):\n",
    "    print(i,end=\"\")"
   ]
  },
  {
   "cell_type": "code",
   "execution_count": 11,
   "metadata": {},
   "outputs": [
    {
     "name": "stdout",
     "output_type": "stream",
     "text": [
      "enter a stringdcv\n",
      "d\n",
      "c\n",
      "v\n"
     ]
    }
   ],
   "source": [
    "#accept a string as a input and print all characters of the string without using len and while loop\n",
    "s1=input(\"enter a string\")\n",
    "l=0\n",
    "j=0\n",
    "for i in s1:\n",
    "    l=l+1\n",
    "while j<l:\n",
    "    print(s1[j])\n",
    "    j=j+1\n"
   ]
  },
  {
   "cell_type": "code",
   "execution_count": 13,
   "metadata": {},
   "outputs": [
    {
     "name": "stdout",
     "output_type": "stream",
     "text": [
      "enter string which u want:hello\n",
      "not\n"
     ]
    }
   ],
   "source": [
    "#accept a string as an input and check whether string is palindrome or not\n",
    "string1=input(\"enter string which u want:\")\n",
    "str2=string1[::-1]\n",
    "if str2==string1:\n",
    "    print(\"palindrome\")\n",
    "else:\n",
    "    print(\"not\")"
   ]
  },
  {
   "cell_type": "code",
   "execution_count": 11,
   "metadata": {},
   "outputs": [
    {
     "name": "stdout",
     "output_type": "stream",
     "text": [
      "enter no1221\n",
      "yes\n"
     ]
    }
   ],
   "source": [
    "n1=int(input(\"enter no\"))\n",
    "original=n1\n",
    "n2=0\n",
    "while(n1>0):\n",
    "    rem=n1%10\n",
    "    n2=n2*10+rem\n",
    "    n1=n1//10\n",
    "if original==n2:\n",
    "    print(\"yes\")\n",
    "else:\n",
    "    print(\"not\")"
   ]
  },
  {
   "cell_type": "code",
   "execution_count": 2,
   "metadata": {},
   "outputs": [
    {
     "ename": "SyntaxError",
     "evalue": "invalid syntax (<ipython-input-2-d1903a766b18>, line 3)",
     "output_type": "error",
     "traceback": [
      "\u001b[1;36m  File \u001b[1;32m\"<ipython-input-2-d1903a766b18>\"\u001b[1;36m, line \u001b[1;32m3\u001b[0m\n\u001b[1;33m    print(\"%d * %d =%d\",%(n1,i,n1*i))\u001b[0m\n\u001b[1;37m                        ^\u001b[0m\n\u001b[1;31mSyntaxError\u001b[0m\u001b[1;31m:\u001b[0m invalid syntax\n"
     ]
    }
   ],
   "source": [
    "n1=int(input(\"enter a no which u want to print table\"))\n",
    "for i in range(1,11):\n",
    "    print(\"%d * %d =%d\",%(n1,i,n1*i))\n",
    "    "
   ]
  },
  {
   "cell_type": "code",
   "execution_count": null,
   "metadata": {},
   "outputs": [],
   "source": [
    "n1=int(input(\"enter a number\"))\n",
    "for i in range(1,n1+1):\n",
    "    if i%3==0 and i%5==0:\n",
    "        print(\"fizzbuzz\")\n",
    "    elif i%5==0:\n",
    "        print(\"buzz\")\n",
    "    elif i%3==0:\n",
    "        print(\"fizz\")\n",
    "    \n",
    "    else:\n",
    "        print(i)\n",
    "    "
   ]
  },
  {
   "cell_type": "code",
   "execution_count": 4,
   "metadata": {},
   "outputs": [
    {
     "name": "stdout",
     "output_type": "stream",
     "text": [
      "enter a number:6\n",
      "not prime \n"
     ]
    }
   ],
   "source": [
    "n=int(input(\"enter a number:\"))\n",
    "if n>1:\n",
    "    for i in range(2,n):\n",
    "        if n%i==0:\n",
    "            print(\"not prime \")\n",
    "            break\n",
    "        else:\n",
    "            print(\"prime\")\n",
    "else:\n",
    "    print(\"not prime\")"
   ]
  },
  {
   "cell_type": "code",
   "execution_count": null,
   "metadata": {},
   "outputs": [],
   "source": []
  },
  {
   "cell_type": "code",
   "execution_count": null,
   "metadata": {},
   "outputs": [],
   "source": []
  },
  {
   "cell_type": "code",
   "execution_count": null,
   "metadata": {},
   "outputs": [],
   "source": []
  },
  {
   "cell_type": "code",
   "execution_count": null,
   "metadata": {},
   "outputs": [],
   "source": []
  },
  {
   "cell_type": "code",
   "execution_count": null,
   "metadata": {},
   "outputs": [],
   "source": []
  },
  {
   "cell_type": "code",
   "execution_count": null,
   "metadata": {},
   "outputs": [],
   "source": []
  }
 ],
 "metadata": {
  "kernelspec": {
   "display_name": "Python 3",
   "language": "python",
   "name": "python3"
  },
  "language_info": {
   "codemirror_mode": {
    "name": "ipython",
    "version": 3
   },
   "file_extension": ".py",
   "mimetype": "text/x-python",
   "name": "python",
   "nbconvert_exporter": "python",
   "pygments_lexer": "ipython3",
   "version": "3.7.4"
  }
 },
 "nbformat": 4,
 "nbformat_minor": 2
}
